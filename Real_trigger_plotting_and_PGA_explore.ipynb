{
 "cells": [
  {
   "cell_type": "markdown",
   "metadata": {},
   "source": [
    "## Plotting real trigger data for the Borrego Springs and Berkeley events"
   ]
  },
  {
   "cell_type": "code",
   "execution_count": 1,
   "metadata": {},
   "outputs": [],
   "source": [
    "import obspy as op\n",
    "from obspy.clients.fdsn import Client \n",
    "import pandas as pd\n",
    "import seaborn as sns\n",
    "import matplotlib.pyplot as plt\n",
    "import glob\n",
    "from util import filter_rt\n",
    "import pickle\n",
    "import numpy as np\n",
    "%matplotlib inline"
   ]
  },
  {
   "cell_type": "code",
   "execution_count": 2,
   "metadata": {},
   "outputs": [],
   "source": [
    "plt.style.use('seaborn-poster')"
   ]
  },
  {
   "cell_type": "code",
   "execution_count": 3,
   "metadata": {},
   "outputs": [],
   "source": [
    "eqloc_sC = [33.432,-116.443]\n",
    "eqloc_nC = [37.855,-122.257]"
   ]
  },
  {
   "cell_type": "markdown",
   "metadata": {},
   "source": [
    " ## For the Borrego Springs event\n",
    " \n",
    " The file 'Borrego_Springs.csv' contains all the real triggers that occured in the Borrego Springs simulation.\n",
    " See Simulate.py, line 350\n",
    " \n",
    " Here we load these triggers, get the event information and then plot simulated triggers vs. real triggers "
   ]
  },
  {
   "cell_type": "code",
   "execution_count": 4,
   "metadata": {},
   "outputs": [],
   "source": [
    "phone_pga = pd.read_csv(\"Borrego_Springs.csv\")\n",
    "phone_pga['triggerTime'] = pd.to_datetime(phone_pga['triggerTime'])\n",
    "phone_pga.reset_index(inplace=True,drop=True)"
   ]
  },
  {
   "cell_type": "code",
   "execution_count": 5,
   "metadata": {},
   "outputs": [],
   "source": [
    "#Get the origin time of the event \n",
    "client = Client(\"IRIS\")\n",
    "starttime = '2016-01-01'\n",
    "endtime = '2016-12-01'\n",
    "minlatitude = 32\n",
    "maxlatitude = 36\n",
    "minlongitude=-122\n",
    "maxlongitude=-115\n",
    "minmag = 5\n",
    "quake_catalog = client.get_events(starttime=op.UTCDateTime(starttime),endtime=op.UTCDateTime(endtime),\\\n",
    "                    minlatitude=minlatitude,maxlatitude=maxlatitude,minlongitude=minlongitude,maxlongitude=maxlongitude,minmagnitude=minmag)"
   ]
  },
  {
   "cell_type": "code",
   "execution_count": 6,
   "metadata": {},
   "outputs": [],
   "source": [
    "otime = pd.to_datetime(str(quake_catalog[0].origins[0].time))"
   ]
  },
  {
   "cell_type": "code",
   "execution_count": 7,
   "metadata": {},
   "outputs": [
    {
     "data": {
      "text/plain": [
       "Timestamp('2016-06-10 08:04:38.700000')"
      ]
     },
     "execution_count": 7,
     "metadata": {},
     "output_type": "execute_result"
    }
   ],
   "source": [
    "otime"
   ]
  },
  {
   "cell_type": "code",
   "execution_count": 8,
   "metadata": {},
   "outputs": [],
   "source": [
    "phone_pga['time_since_otime'] = phone_pga['triggerTime'].apply(lambda x: (x - otime).total_seconds())"
   ]
  },
  {
   "cell_type": "code",
   "execution_count": 9,
   "metadata": {},
   "outputs": [
    {
     "data": {
      "text/html": [
       "<div>\n",
       "<style scoped>\n",
       "    .dataframe tbody tr th:only-of-type {\n",
       "        vertical-align: middle;\n",
       "    }\n",
       "\n",
       "    .dataframe tbody tr th {\n",
       "        vertical-align: top;\n",
       "    }\n",
       "\n",
       "    .dataframe thead th {\n",
       "        text-align: right;\n",
       "    }\n",
       "</style>\n",
       "<table border=\"1\" class=\"dataframe\">\n",
       "  <thead>\n",
       "    <tr style=\"text-align: right;\">\n",
       "      <th></th>\n",
       "      <th>triggerTime</th>\n",
       "      <th>latitude</th>\n",
       "      <th>longitude</th>\n",
       "      <th>pga</th>\n",
       "      <th>corrected</th>\n",
       "      <th>p_flag</th>\n",
       "      <th>time_since_otime</th>\n",
       "    </tr>\n",
       "  </thead>\n",
       "  <tbody>\n",
       "    <tr>\n",
       "      <th>0</th>\n",
       "      <td>2016-06-10 08:02:38.029</td>\n",
       "      <td>34.014690</td>\n",
       "      <td>-118.327976</td>\n",
       "      <td>0.012738</td>\n",
       "      <td>1</td>\n",
       "      <td>0.0</td>\n",
       "      <td>-120.671</td>\n",
       "    </tr>\n",
       "    <tr>\n",
       "      <th>1</th>\n",
       "      <td>2016-06-10 08:02:50.620</td>\n",
       "      <td>33.499714</td>\n",
       "      <td>-112.200865</td>\n",
       "      <td>0.490784</td>\n",
       "      <td>0</td>\n",
       "      <td>0.0</td>\n",
       "      <td>-108.080</td>\n",
       "    </tr>\n",
       "    <tr>\n",
       "      <th>2</th>\n",
       "      <td>2016-06-10 08:03:06.657</td>\n",
       "      <td>34.247449</td>\n",
       "      <td>-118.607106</td>\n",
       "      <td>0.005833</td>\n",
       "      <td>1</td>\n",
       "      <td>1.0</td>\n",
       "      <td>-92.043</td>\n",
       "    </tr>\n",
       "    <tr>\n",
       "      <th>3</th>\n",
       "      <td>2016-06-10 08:03:13.799</td>\n",
       "      <td>34.076339</td>\n",
       "      <td>-117.169994</td>\n",
       "      <td>0.008309</td>\n",
       "      <td>1</td>\n",
       "      <td>1.0</td>\n",
       "      <td>-84.901</td>\n",
       "    </tr>\n",
       "    <tr>\n",
       "      <th>4</th>\n",
       "      <td>2016-06-10 08:03:29.787</td>\n",
       "      <td>33.763762</td>\n",
       "      <td>-118.147672</td>\n",
       "      <td>0.001102</td>\n",
       "      <td>0</td>\n",
       "      <td>0.0</td>\n",
       "      <td>-68.913</td>\n",
       "    </tr>\n",
       "  </tbody>\n",
       "</table>\n",
       "</div>"
      ],
      "text/plain": [
       "              triggerTime   latitude   longitude       pga  corrected  p_flag  \\\n",
       "0 2016-06-10 08:02:38.029  34.014690 -118.327976  0.012738          1     0.0   \n",
       "1 2016-06-10 08:02:50.620  33.499714 -112.200865  0.490784          0     0.0   \n",
       "2 2016-06-10 08:03:06.657  34.247449 -118.607106  0.005833          1     1.0   \n",
       "3 2016-06-10 08:03:13.799  34.076339 -117.169994  0.008309          1     1.0   \n",
       "4 2016-06-10 08:03:29.787  33.763762 -118.147672  0.001102          0     0.0   \n",
       "\n",
       "   time_since_otime  \n",
       "0          -120.671  \n",
       "1          -108.080  \n",
       "2           -92.043  \n",
       "3           -84.901  \n",
       "4           -68.913  "
      ]
     },
     "execution_count": 9,
     "metadata": {},
     "output_type": "execute_result"
    }
   ],
   "source": [
    "phone_pga.head()"
   ]
  },
  {
   "cell_type": "code",
   "execution_count": 10,
   "metadata": {},
   "outputs": [],
   "source": [
    "def calc_distance(row):\n",
    "    \n",
    "    '''Determine distance in km between phone and known epicenter'''\n",
    "    \n",
    "    return op.geodetics.gps2dist_azimuth(eqloc[0],eqloc[1],row['latitude'],row['longitude'])[0]/1000.0"
   ]
  },
  {
   "cell_type": "code",
   "execution_count": 11,
   "metadata": {},
   "outputs": [],
   "source": [
    "#Determine distance from event\n",
    "eqloc = eqloc_sC\n",
    "phone_pga['epidistance'] = phone_pga.apply(calc_distance,axis=1)"
   ]
  },
  {
   "cell_type": "code",
   "execution_count": 12,
   "metadata": {},
   "outputs": [],
   "source": [
    "def convert_distance(depth,distance,vp,vs):\n",
    "    \n",
    "    traveldist = np.sqrt(depth**2+distance**2)\n",
    "    vp_t = traveldist/vp\n",
    "    vs_t = traveldist/vs\n",
    "    \n",
    "    return (distance,vp_t), (distance,vs_t)"
   ]
  },
  {
   "cell_type": "code",
   "execution_count": 13,
   "metadata": {},
   "outputs": [],
   "source": [
    "(d0,pt0), (d0,st0) = convert_distance(10,0,6.1,3.55)\n",
    "(d1,pt1), (d1,st1) = convert_distance(10,200,6.1,3.55)"
   ]
  },
  {
   "cell_type": "code",
   "execution_count": 14,
   "metadata": {},
   "outputs": [
    {
     "name": "stdout",
     "output_type": "stream",
     "text": [
      "0 1.6393442623\n",
      "200 32.8278432697\n"
     ]
    }
   ],
   "source": [
    "print(d0,pt0)\n",
    "print(d1,pt1)"
   ]
  },
  {
   "cell_type": "markdown",
   "metadata": {},
   "source": [
    "This file was generated by a simulation with 0.1% of the population. Different simulations will produce slightly different results"
   ]
  },
  {
   "cell_type": "code",
   "execution_count": 16,
   "metadata": {},
   "outputs": [],
   "source": [
    "simulated_triggers = pd.read_csv('Trigger_list_BSprings_test_1.csv')"
   ]
  },
  {
   "cell_type": "code",
   "execution_count": 17,
   "metadata": {},
   "outputs": [
    {
     "data": {
      "text/html": [
       "<div>\n",
       "<style scoped>\n",
       "    .dataframe tbody tr th:only-of-type {\n",
       "        vertical-align: middle;\n",
       "    }\n",
       "\n",
       "    .dataframe tbody tr th {\n",
       "        vertical-align: top;\n",
       "    }\n",
       "\n",
       "    .dataframe thead th {\n",
       "        text-align: right;\n",
       "    }\n",
       "</style>\n",
       "<table border=\"1\" class=\"dataframe\">\n",
       "  <thead>\n",
       "    <tr style=\"text-align: right;\">\n",
       "      <th></th>\n",
       "      <th>datetime</th>\n",
       "      <th>latitude</th>\n",
       "      <th>longitude</th>\n",
       "      <th>dist</th>\n",
       "      <th>delta_t</th>\n",
       "      <th>pga</th>\n",
       "      <th>p_flag</th>\n",
       "    </tr>\n",
       "  </thead>\n",
       "  <tbody>\n",
       "    <tr>\n",
       "      <th>0</th>\n",
       "      <td>2016-06-10 08:04:59.855557+00:00</td>\n",
       "      <td>32.814111</td>\n",
       "      <td>-116.959612</td>\n",
       "      <td>83.847471</td>\n",
       "      <td>21.155557</td>\n",
       "      <td>0.010002</td>\n",
       "      <td>0</td>\n",
       "    </tr>\n",
       "    <tr>\n",
       "      <th>1</th>\n",
       "      <td>2016-06-10 08:05:14.410798+00:00</td>\n",
       "      <td>32.428243</td>\n",
       "      <td>-116.973598</td>\n",
       "      <td>122.066477</td>\n",
       "      <td>35.710798</td>\n",
       "      <td>0.010023</td>\n",
       "      <td>0</td>\n",
       "    </tr>\n",
       "    <tr>\n",
       "      <th>2</th>\n",
       "      <td>2016-06-10 08:05:00.974207+00:00</td>\n",
       "      <td>34.119237</td>\n",
       "      <td>-116.453726</td>\n",
       "      <td>76.479750</td>\n",
       "      <td>22.274207</td>\n",
       "      <td>0.010028</td>\n",
       "      <td>0</td>\n",
       "    </tr>\n",
       "    <tr>\n",
       "      <th>3</th>\n",
       "      <td>2016-06-10 08:05:08.311176+00:00</td>\n",
       "      <td>32.488383</td>\n",
       "      <td>-116.837068</td>\n",
       "      <td>111.137816</td>\n",
       "      <td>29.611176</td>\n",
       "      <td>0.010035</td>\n",
       "      <td>0</td>\n",
       "    </tr>\n",
       "    <tr>\n",
       "      <th>4</th>\n",
       "      <td>2016-06-10 08:05:06.037552+00:00</td>\n",
       "      <td>34.116341</td>\n",
       "      <td>-117.322503</td>\n",
       "      <td>111.409683</td>\n",
       "      <td>27.337552</td>\n",
       "      <td>0.010050</td>\n",
       "      <td>1</td>\n",
       "    </tr>\n",
       "  </tbody>\n",
       "</table>\n",
       "</div>"
      ],
      "text/plain": [
       "                           datetime   latitude   longitude        dist  \\\n",
       "0  2016-06-10 08:04:59.855557+00:00  32.814111 -116.959612   83.847471   \n",
       "1  2016-06-10 08:05:14.410798+00:00  32.428243 -116.973598  122.066477   \n",
       "2  2016-06-10 08:05:00.974207+00:00  34.119237 -116.453726   76.479750   \n",
       "3  2016-06-10 08:05:08.311176+00:00  32.488383 -116.837068  111.137816   \n",
       "4  2016-06-10 08:05:06.037552+00:00  34.116341 -117.322503  111.409683   \n",
       "\n",
       "     delta_t       pga  p_flag  \n",
       "0  21.155557  0.010002       0  \n",
       "1  35.710798  0.010023       0  \n",
       "2  22.274207  0.010028       0  \n",
       "3  29.611176  0.010035       0  \n",
       "4  27.337552  0.010050       1  "
      ]
     },
     "execution_count": 17,
     "metadata": {},
     "output_type": "execute_result"
    }
   ],
   "source": [
    "simulated_triggers.head()"
   ]
  },
  {
   "cell_type": "markdown",
   "metadata": {},
   "source": [
    "### Plotting figure for the paper"
   ]
  },
  {
   "cell_type": "code",
   "execution_count": 21,
   "metadata": {
    "scrolled": true
   },
   "outputs": [
    {
     "data": {
      "image/png": "[encoded data removed]",
      "text/plain": [
       "<Figure size 1080x576 with 2 Axes>"
      ]
     },
     "metadata": {},
     "output_type": "display_data"
    }
   ],
   "source": [
    "fig = plt.figure(figsize=(15,8))\n",
    "ax1 = fig.add_subplot(121)\n",
    "ax2 = fig.add_subplot(122)\n",
    "\n",
    "phone_pga.plot(kind='scatter',x='epidistance',y='time_since_otime',ax=ax1,s=50,c='k')\n",
    "ax1.plot((d0,d1),(pt0,pt1),'g--',label='P arrival')\n",
    "ax1.plot((d0,d1),(st0,st1),'r--',label='S arrival')\n",
    "ax1.legend(loc='best')\n",
    "\n",
    "ax1.set_xlabel('Distance from epicenter (km)')\n",
    "ax1.set_ylabel('Time (s)')\n",
    "ax1.set_xlim([0,200])\n",
    "ax1.set_ylim([0,100])\n",
    "ax1.set_title('Real triggers')\n",
    "\n",
    "simulated_triggers.plot(kind='scatter',x='dist',y='delta_t',ax=ax2,s=50,c='k')\n",
    "ax2.plot((d0,d1),(pt0,pt1),'g--',label='P arrival')\n",
    "ax2.plot((d0,d1),(st0,st1),'r--',label='S arrival')\n",
    "ax2.set_xlabel('Distance from epicenter (km)')\n",
    "ax2.set_ylabel('Time (s)')\n",
    "ax2.set_xlim([0,200])\n",
    "ax2.set_ylim([0,100])\n",
    "ax2.set_title('Simulated triggers')\n",
    "\n",
    "plt.tight_layout()\n",
    "plt.savefig('Real_vs_simulated_triggers_borrego.pdf',dpi=200)"
   ]
  },
  {
   "cell_type": "markdown",
   "metadata": {},
   "source": [
    "### Exploration of the phones whose PGA values are corrected vs uncorrected "
   ]
  },
  {
   "cell_type": "code",
   "execution_count": 19,
   "metadata": {},
   "outputs": [],
   "source": [
    "corrected_phones = phone_pga[phone_pga['corrected']==1]\n",
    "uncorrected_phones = phone_pga[phone_pga['corrected']==0]"
   ]
  },
  {
   "cell_type": "code",
   "execution_count": 20,
   "metadata": {},
   "outputs": [
    {
     "data": {
      "image/png": "[encoded data removed]",
      "text/plain": [
       "<Figure size 720x504 with 1 Axes>"
      ]
     },
     "metadata": {},
     "output_type": "display_data"
    }
   ],
   "source": [
    "fig = plt.figure(figsize=(10,7))\n",
    "plt.plot(corrected_phones['epidistance'],corrected_phones['pga'],'go',markersize=5,label='PGA corrected')\n",
    "plt.plot(uncorrected_phones['epidistance'],uncorrected_phones['pga'],'ro',markersize=5,label='PGA not corrected')\n",
    "plt.xlabel('Distance from epicenter')\n",
    "plt.ylabel('PGA value')\n",
    "plt.legend(loc='best')\n",
    "plt.grid()\n",
    "plt.savefig(\"Borrego_triggers_PGA.png\",dpi=150)"
   ]
  },
  {
   "cell_type": "code",
   "execution_count": 76,
   "metadata": {},
   "outputs": [
    {
     "name": "stderr",
     "output_type": "stream",
     "text": [
      "/home/rmartinshort/anaconda2/envs/python3/lib/python3.6/site-packages/matplotlib/axes/_axes.py:6448: UserWarning: The 'normed' kwarg is deprecated, and has been replaced by the 'density' kwarg.\n",
      "  warnings.warn(\"The 'normed' kwarg is deprecated, and has been \"\n"
     ]
    },
    {
     "data": {
      "image/png": "[encoded data removed]",
      "text/plain": [
       "<Figure size 432x288 with 1 Axes>"
      ]
     },
     "metadata": {},
     "output_type": "display_data"
    }
   ],
   "source": [
    "sns.distplot(phone_pga['pga'],kde=False,bins=50)\n",
    "plt.grid()\n",
    "plt.xlabel('PGA value')\n",
    "plt.ylabel('Number of observations')\n",
    "plt.title('Total number of observations: %i. Below line: %i' %(len(phone_pga),len(phone_pga[phone_pga['pga']<0.1])))\n",
    "plt.axvline(0.1,color='r')\n",
    "plt.savefig(\"Borrego_triggers_dist.png\",dpi=150)"
   ]
  },
  {
   "cell_type": "markdown",
   "metadata": {},
   "source": [
    "### Extracting infromation from the waveforms"
   ]
  },
  {
   "cell_type": "code",
   "execution_count": 84,
   "metadata": {},
   "outputs": [],
   "source": [
    "waveforms = \"/home/rmartinshort/Documents/Berkeley/MyShake_simulations/rms_version/clustering_compare/MyShake_simulation/data/Good_earthquakes/20160610T000000_20160611T000000/20km_NNW_of_Borrego_Springs,_CA_M5.17/data\""
   ]
  },
  {
   "cell_type": "code",
   "execution_count": 85,
   "metadata": {},
   "outputs": [],
   "source": [
    "all_waveforms = list(sorted(glob.glob(waveforms+'/*.pkl')))\n",
    "filter_hp = filter_rt.filter_rt()"
   ]
  },
  {
   "cell_type": "code",
   "execution_count": 86,
   "metadata": {},
   "outputs": [
    {
     "name": "stdout",
     "output_type": "stream",
     "text": [
      "Could not extract pga\n",
      "Could not extract pga\n",
      "Could not extract pga\n",
      "Could not extract pga\n",
      "Could not extract pga\n",
      "Could not extract pga\n",
      "Could not extract pga\n",
      "Could not extract pga\n",
      "Could not extract pga\n",
      "Could not extract pga\n",
      "Could not extract pga\n",
      "Could not extract pga\n",
      "Could not extract pga\n",
      "Could not extract pga\n",
      "Could not extract pga\n",
      "Could not extract pga\n",
      "Could not extract pga\n",
      "Could not extract pga\n",
      "Could not extract pga\n",
      "Could not extract pga\n",
      "Could not extract pga\n",
      "Could not extract pga\n",
      "Could not extract pga\n",
      "Could not extract pga\n",
      "Could not extract pga\n",
      "Could not extract pga\n",
      "Could not extract pga\n",
      "Could not extract pga\n",
      "Could not extract pga\n",
      "Could not extract pga\n",
      "Could not extract pga\n",
      "Could not extract pga\n",
      "Could not extract pga\n",
      "Could not extract pga\n",
      "Could not extract pga\n",
      "Could not extract pga\n",
      "Could not extract pga\n",
      "Could not extract pga\n",
      "Could not extract pga\n",
      "Could not extract pga\n",
      "Could not extract pga\n",
      "Could not extract pga\n",
      "Could not extract pga\n",
      "Could not extract pga\n",
      "Could not extract pga\n",
      "Could not extract pga\n",
      "Could not extract pga\n",
      "Could not extract pga\n",
      "Could not extract pga\n",
      "Could not extract pga\n",
      "Could not extract pga\n",
      "Could not extract pga\n",
      "Could not extract pga\n",
      "Could not extract pga\n",
      "Could not extract pga\n",
      "Could not extract pga\n",
      "Could not extract pga\n",
      "Could not extract pga\n",
      "Could not extract pga\n",
      "Could not extract pga\n",
      "Could not extract pga\n",
      "Could not extract pga\n",
      "Could not extract pga\n",
      "Could not extract pga\n",
      "Could not extract pga\n",
      "Could not extract pga\n",
      "Could not extract pga\n",
      "Could not extract pga\n",
      "Could not extract pga\n",
      "Could not extract pga\n",
      "Could not extract pga\n",
      "Could not extract pga\n",
      "Could not extract pga\n",
      "Could not extract pga\n",
      "Could not extract pga\n",
      "Could not extract pga\n",
      "Could not extract pga\n",
      "Could not extract pga\n",
      "Could not extract pga\n",
      "Could not extract pga\n",
      "Could not extract pga\n",
      "Could not extract pga\n",
      "Could not extract pga\n"
     ]
    }
   ],
   "source": [
    "pga_vals = []\n",
    "\n",
    "for waveform in all_waveforms:\n",
    "    \n",
    "    data = pickle.load(open(waveform,'rb'), encoding='latin1')\n",
    "    tt = data['triggerTimer']\n",
    "    ts = data['data']['ts']\n",
    "    x = data['data']['x']\n",
    "    y = data['data']['y']\n",
    "    z = data['data']['z']\n",
    "    dt = np.diff(ts/1000.)\n",
    "    x1, y1, z1 = filter_hp.apply_filter(x,y,z,dt)\n",
    "    ix = (ts >=(tt - 100)) & (ts<= tt+100) #not clear about what interval to use here\n",
    "    try:\n",
    "        pga = np.max([np.abs(x1[ix]), np.abs(y1[ix]), np.abs(z1[ix])])\n",
    "        pga_vals.append(pga)\n",
    "    except:\n",
    "        print(\"Could not extract pga\")\n",
    "        pga_vals.append(np.nan)"
   ]
  },
  {
   "cell_type": "code",
   "execution_count": 89,
   "metadata": {},
   "outputs": [
    {
     "name": "stdout",
     "output_type": "stream",
     "text": [
      "0.13606557377\n"
     ]
    },
    {
     "data": {
      "text/plain": [
       "610"
      ]
     },
     "execution_count": 89,
     "metadata": {},
     "output_type": "execute_result"
    }
   ],
   "source": [
    "pga_vals = np.array(pga_vals)\n",
    "print(sum(np.isnan(pga_vals))/len(pga_vals)) #proportion of data that did not get sampled\n",
    "len(pga_vals)"
   ]
  },
  {
   "cell_type": "code",
   "execution_count": 90,
   "metadata": {},
   "outputs": [
    {
     "data": {
      "image/png": "[encoded data removed]",
      "text/plain": [
       "<Figure size 432x288 with 1 Axes>"
      ]
     },
     "metadata": {},
     "output_type": "display_data"
    }
   ],
   "source": [
    "plt.hist(pga_vals[~np.isnan(pga_vals)],bins=30)\n",
    "\n",
    "plt.xlabel('PGA value from waveform')\n",
    "plt.ylabel('Number of observations')\n",
    "plt.savefig(\"Borrego_from_phone_dist.png\",dpi=150)"
   ]
  },
  {
   "cell_type": "markdown",
   "metadata": {},
   "source": [
    "## For the Berkeley event"
   ]
  },
  {
   "cell_type": "code",
   "execution_count": 145,
   "metadata": {},
   "outputs": [],
   "source": [
    "#Get the origin time of the event \n",
    "client = Client(\"IRIS\")\n",
    "starttime = '2018-01-01'\n",
    "endtime = '2018-12-01'\n",
    "minlatitude = 35\n",
    "maxlatitude = 39\n",
    "minlongitude=-124\n",
    "maxlongitude=-119\n",
    "minmag = 4\n",
    "quake_catalog = client.get_events(starttime=op.UTCDateTime(starttime),endtime=op.UTCDateTime(endtime),\\\n",
    "                    minlatitude=minlatitude,maxlatitude=maxlatitude,minlongitude=minlongitude,maxlongitude=maxlongitude,minmagnitude=minmag)"
   ]
  },
  {
   "cell_type": "code",
   "execution_count": 146,
   "metadata": {},
   "outputs": [
    {
     "data": {
      "text/plain": [
       "6 Event(s) in Catalog:\n",
       "2018-11-27T13:07:12.830000Z | +36.074, -120.188 | 4.0 Mw\n",
       "2018-11-02T12:58:54.230000Z | +36.680, -121.315 | 4.3285 Mw\n",
       "2018-05-10T02:58:30.910000Z | +38.810, -122.797 | 4.19 Mw\n",
       "2018-04-16T16:36:48.880000Z | +35.044, -119.042 | 4.1 ML\n",
       "2018-01-18T05:55:11.950000Z | +38.785, -122.743 | 4.22 mw\n",
       "2018-01-04T10:39:37.730000Z | +37.855, -122.257 | 4.38 Mw"
      ]
     },
     "execution_count": 146,
     "metadata": {},
     "output_type": "execute_result"
    }
   ],
   "source": [
    "quake_catalog"
   ]
  },
  {
   "cell_type": "code",
   "execution_count": 147,
   "metadata": {},
   "outputs": [],
   "source": [
    "phone_pga = pd.read_csv(\"Berkeley.csv\")\n",
    "#Convert to datetime\n",
    "phone_pga['triggerTime'] = pd.to_datetime(phone_pga['triggerTime'])\n",
    "phone_pga.reset_index(inplace=True)"
   ]
  },
  {
   "cell_type": "code",
   "execution_count": 148,
   "metadata": {},
   "outputs": [],
   "source": [
    "#Determine distance from event\n",
    "eqloc = eqloc_nC\n",
    "phone_pga['epidistance'] = phone_pga.apply(calc_distance,axis=1)"
   ]
  },
  {
   "cell_type": "code",
   "execution_count": 149,
   "metadata": {},
   "outputs": [],
   "source": [
    "otime = pd.to_datetime(str(quake_catalog[-1].origins[0].time))"
   ]
  },
  {
   "cell_type": "code",
   "execution_count": 150,
   "metadata": {},
   "outputs": [],
   "source": [
    "corrected_phones = phone_pga[phone_pga['corrected']==1]\n",
    "uncorrected_phones = phone_pga[phone_pga['corrected']==0]"
   ]
  },
  {
   "cell_type": "code",
   "execution_count": 151,
   "metadata": {},
   "outputs": [],
   "source": [
    "phone_pga['time_since_otime'] = phone_pga['triggerTime'].apply(lambda x: (x - otime).total_seconds())"
   ]
  },
  {
   "cell_type": "code",
   "execution_count": 152,
   "metadata": {},
   "outputs": [
    {
     "data": {
      "text/html": [
       "<div>\n",
       "<style scoped>\n",
       "    .dataframe tbody tr th:only-of-type {\n",
       "        vertical-align: middle;\n",
       "    }\n",
       "\n",
       "    .dataframe tbody tr th {\n",
       "        vertical-align: top;\n",
       "    }\n",
       "\n",
       "    .dataframe thead th {\n",
       "        text-align: right;\n",
       "    }\n",
       "</style>\n",
       "<table border=\"1\" class=\"dataframe\">\n",
       "  <thead>\n",
       "    <tr style=\"text-align: right;\">\n",
       "      <th></th>\n",
       "      <th>index</th>\n",
       "      <th>triggerTime</th>\n",
       "      <th>latitude</th>\n",
       "      <th>longitude</th>\n",
       "      <th>pga</th>\n",
       "      <th>corrected</th>\n",
       "      <th>p_flag</th>\n",
       "      <th>epidistance</th>\n",
       "      <th>time_since_otime</th>\n",
       "    </tr>\n",
       "  </thead>\n",
       "  <tbody>\n",
       "    <tr>\n",
       "      <th>0</th>\n",
       "      <td>0</td>\n",
       "      <td>2018-01-04 10:39:18.681</td>\n",
       "      <td>38.663052</td>\n",
       "      <td>-120.999146</td>\n",
       "      <td>0.595156</td>\n",
       "      <td>1</td>\n",
       "      <td>1.0</td>\n",
       "      <td>142.001288</td>\n",
       "      <td>-19.049</td>\n",
       "    </tr>\n",
       "    <tr>\n",
       "      <th>1</th>\n",
       "      <td>1</td>\n",
       "      <td>2018-01-04 10:39:41.133</td>\n",
       "      <td>37.899904</td>\n",
       "      <td>-122.304039</td>\n",
       "      <td>0.453306</td>\n",
       "      <td>0</td>\n",
       "      <td>0.0</td>\n",
       "      <td>6.478218</td>\n",
       "      <td>3.403</td>\n",
       "    </tr>\n",
       "    <tr>\n",
       "      <th>2</th>\n",
       "      <td>2</td>\n",
       "      <td>2018-01-04 10:39:42.080</td>\n",
       "      <td>37.886772</td>\n",
       "      <td>-122.286497</td>\n",
       "      <td>0.008862</td>\n",
       "      <td>1</td>\n",
       "      <td>0.0</td>\n",
       "      <td>4.378529</td>\n",
       "      <td>4.350</td>\n",
       "    </tr>\n",
       "    <tr>\n",
       "      <th>3</th>\n",
       "      <td>3</td>\n",
       "      <td>2018-01-04 10:39:42.127</td>\n",
       "      <td>37.770128</td>\n",
       "      <td>-122.157297</td>\n",
       "      <td>0.451124</td>\n",
       "      <td>0</td>\n",
       "      <td>0.0</td>\n",
       "      <td>12.877039</td>\n",
       "      <td>4.397</td>\n",
       "    </tr>\n",
       "    <tr>\n",
       "      <th>4</th>\n",
       "      <td>4</td>\n",
       "      <td>2018-01-04 10:39:42.293</td>\n",
       "      <td>37.840889</td>\n",
       "      <td>-122.249446</td>\n",
       "      <td>0.106888</td>\n",
       "      <td>1</td>\n",
       "      <td>0.0</td>\n",
       "      <td>1.701545</td>\n",
       "      <td>4.563</td>\n",
       "    </tr>\n",
       "  </tbody>\n",
       "</table>\n",
       "</div>"
      ],
      "text/plain": [
       "   index             triggerTime   latitude   longitude       pga  corrected  \\\n",
       "0      0 2018-01-04 10:39:18.681  38.663052 -120.999146  0.595156          1   \n",
       "1      1 2018-01-04 10:39:41.133  37.899904 -122.304039  0.453306          0   \n",
       "2      2 2018-01-04 10:39:42.080  37.886772 -122.286497  0.008862          1   \n",
       "3      3 2018-01-04 10:39:42.127  37.770128 -122.157297  0.451124          0   \n",
       "4      4 2018-01-04 10:39:42.293  37.840889 -122.249446  0.106888          1   \n",
       "\n",
       "   p_flag  epidistance  time_since_otime  \n",
       "0     1.0   142.001288           -19.049  \n",
       "1     0.0     6.478218             3.403  \n",
       "2     0.0     4.378529             4.350  \n",
       "3     0.0    12.877039             4.397  \n",
       "4     0.0     1.701545             4.563  "
      ]
     },
     "execution_count": 152,
     "metadata": {},
     "output_type": "execute_result"
    }
   ],
   "source": [
    "phone_pga.head()"
   ]
  },
  {
   "cell_type": "code",
   "execution_count": 155,
   "metadata": {},
   "outputs": [
    {
     "data": {
      "text/html": [
       "<div>\n",
       "<style scoped>\n",
       "    .dataframe tbody tr th:only-of-type {\n",
       "        vertical-align: middle;\n",
       "    }\n",
       "\n",
       "    .dataframe tbody tr th {\n",
       "        vertical-align: top;\n",
       "    }\n",
       "\n",
       "    .dataframe thead th {\n",
       "        text-align: right;\n",
       "    }\n",
       "</style>\n",
       "<table border=\"1\" class=\"dataframe\">\n",
       "  <thead>\n",
       "    <tr style=\"text-align: right;\">\n",
       "      <th></th>\n",
       "      <th>index</th>\n",
       "      <th>triggerTime</th>\n",
       "      <th>latitude</th>\n",
       "      <th>longitude</th>\n",
       "      <th>pga</th>\n",
       "      <th>corrected</th>\n",
       "      <th>p_flag</th>\n",
       "      <th>epidistance</th>\n",
       "      <th>time_since_otime</th>\n",
       "    </tr>\n",
       "  </thead>\n",
       "  <tbody>\n",
       "    <tr>\n",
       "      <th>0</th>\n",
       "      <td>0</td>\n",
       "      <td>2018-01-04 10:39:18.681</td>\n",
       "      <td>38.663052</td>\n",
       "      <td>-120.999146</td>\n",
       "      <td>0.595156</td>\n",
       "      <td>1</td>\n",
       "      <td>1.0</td>\n",
       "      <td>142.001288</td>\n",
       "      <td>-19.049</td>\n",
       "    </tr>\n",
       "    <tr>\n",
       "      <th>1</th>\n",
       "      <td>1</td>\n",
       "      <td>2018-01-04 10:39:41.133</td>\n",
       "      <td>37.899904</td>\n",
       "      <td>-122.304039</td>\n",
       "      <td>0.453306</td>\n",
       "      <td>0</td>\n",
       "      <td>0.0</td>\n",
       "      <td>6.478218</td>\n",
       "      <td>3.403</td>\n",
       "    </tr>\n",
       "    <tr>\n",
       "      <th>2</th>\n",
       "      <td>2</td>\n",
       "      <td>2018-01-04 10:39:42.080</td>\n",
       "      <td>37.886772</td>\n",
       "      <td>-122.286497</td>\n",
       "      <td>0.008862</td>\n",
       "      <td>1</td>\n",
       "      <td>0.0</td>\n",
       "      <td>4.378529</td>\n",
       "      <td>4.350</td>\n",
       "    </tr>\n",
       "    <tr>\n",
       "      <th>3</th>\n",
       "      <td>3</td>\n",
       "      <td>2018-01-04 10:39:42.127</td>\n",
       "      <td>37.770128</td>\n",
       "      <td>-122.157297</td>\n",
       "      <td>0.451124</td>\n",
       "      <td>0</td>\n",
       "      <td>0.0</td>\n",
       "      <td>12.877039</td>\n",
       "      <td>4.397</td>\n",
       "    </tr>\n",
       "    <tr>\n",
       "      <th>4</th>\n",
       "      <td>4</td>\n",
       "      <td>2018-01-04 10:39:42.293</td>\n",
       "      <td>37.840889</td>\n",
       "      <td>-122.249446</td>\n",
       "      <td>0.106888</td>\n",
       "      <td>1</td>\n",
       "      <td>0.0</td>\n",
       "      <td>1.701545</td>\n",
       "      <td>4.563</td>\n",
       "    </tr>\n",
       "    <tr>\n",
       "      <th>5</th>\n",
       "      <td>5</td>\n",
       "      <td>2018-01-04 10:39:42.499</td>\n",
       "      <td>37.867494</td>\n",
       "      <td>-122.275135</td>\n",
       "      <td>0.082796</td>\n",
       "      <td>1</td>\n",
       "      <td>1.0</td>\n",
       "      <td>2.114197</td>\n",
       "      <td>4.769</td>\n",
       "    </tr>\n",
       "    <tr>\n",
       "      <th>6</th>\n",
       "      <td>6</td>\n",
       "      <td>2018-01-04 10:39:42.925</td>\n",
       "      <td>37.881328</td>\n",
       "      <td>-122.276141</td>\n",
       "      <td>0.135305</td>\n",
       "      <td>0</td>\n",
       "      <td>0.0</td>\n",
       "      <td>3.372841</td>\n",
       "      <td>5.195</td>\n",
       "    </tr>\n",
       "    <tr>\n",
       "      <th>7</th>\n",
       "      <td>7</td>\n",
       "      <td>2018-01-04 10:39:43.273</td>\n",
       "      <td>37.879068</td>\n",
       "      <td>-122.290305</td>\n",
       "      <td>0.069141</td>\n",
       "      <td>1</td>\n",
       "      <td>1.0</td>\n",
       "      <td>3.965409</td>\n",
       "      <td>5.543</td>\n",
       "    </tr>\n",
       "    <tr>\n",
       "      <th>8</th>\n",
       "      <td>8</td>\n",
       "      <td>2018-01-04 10:39:43.353</td>\n",
       "      <td>37.810624</td>\n",
       "      <td>-122.253316</td>\n",
       "      <td>0.113979</td>\n",
       "      <td>1</td>\n",
       "      <td>0.0</td>\n",
       "      <td>4.936094</td>\n",
       "      <td>5.623</td>\n",
       "    </tr>\n",
       "    <tr>\n",
       "      <th>9</th>\n",
       "      <td>9</td>\n",
       "      <td>2018-01-04 10:39:43.449</td>\n",
       "      <td>37.813644</td>\n",
       "      <td>-122.268960</td>\n",
       "      <td>0.058916</td>\n",
       "      <td>1</td>\n",
       "      <td>0.0</td>\n",
       "      <td>4.709419</td>\n",
       "      <td>5.719</td>\n",
       "    </tr>\n",
       "    <tr>\n",
       "      <th>10</th>\n",
       "      <td>10</td>\n",
       "      <td>2018-01-04 10:39:43.729</td>\n",
       "      <td>37.846671</td>\n",
       "      <td>-122.252641</td>\n",
       "      <td>0.075517</td>\n",
       "      <td>1</td>\n",
       "      <td>0.0</td>\n",
       "      <td>1.000931</td>\n",
       "      <td>5.999</td>\n",
       "    </tr>\n",
       "    <tr>\n",
       "      <th>11</th>\n",
       "      <td>11</td>\n",
       "      <td>2018-01-04 10:39:44.162</td>\n",
       "      <td>37.879177</td>\n",
       "      <td>-122.276300</td>\n",
       "      <td>0.098064</td>\n",
       "      <td>1</td>\n",
       "      <td>0.0</td>\n",
       "      <td>3.175691</td>\n",
       "      <td>6.432</td>\n",
       "    </tr>\n",
       "    <tr>\n",
       "      <th>12</th>\n",
       "      <td>12</td>\n",
       "      <td>2018-01-04 10:39:44.472</td>\n",
       "      <td>37.925388</td>\n",
       "      <td>-122.295607</td>\n",
       "      <td>0.022819</td>\n",
       "      <td>1</td>\n",
       "      <td>0.0</td>\n",
       "      <td>8.518794</td>\n",
       "      <td>6.742</td>\n",
       "    </tr>\n",
       "    <tr>\n",
       "      <th>13</th>\n",
       "      <td>13</td>\n",
       "      <td>2018-01-04 10:39:44.658</td>\n",
       "      <td>37.880397</td>\n",
       "      <td>-122.259127</td>\n",
       "      <td>0.047950</td>\n",
       "      <td>1</td>\n",
       "      <td>1.0</td>\n",
       "      <td>2.825107</td>\n",
       "      <td>6.928</td>\n",
       "    </tr>\n",
       "    <tr>\n",
       "      <th>14</th>\n",
       "      <td>14</td>\n",
       "      <td>2018-01-04 10:39:45.306</td>\n",
       "      <td>37.837637</td>\n",
       "      <td>-122.123778</td>\n",
       "      <td>0.055039</td>\n",
       "      <td>1</td>\n",
       "      <td>0.0</td>\n",
       "      <td>11.882953</td>\n",
       "      <td>7.576</td>\n",
       "    </tr>\n",
       "    <tr>\n",
       "      <th>15</th>\n",
       "      <td>15</td>\n",
       "      <td>2018-01-04 10:39:45.372</td>\n",
       "      <td>38.068488</td>\n",
       "      <td>-122.558662</td>\n",
       "      <td>0.008180</td>\n",
       "      <td>1</td>\n",
       "      <td>0.0</td>\n",
       "      <td>35.556492</td>\n",
       "      <td>7.642</td>\n",
       "    </tr>\n",
       "    <tr>\n",
       "      <th>16</th>\n",
       "      <td>16</td>\n",
       "      <td>2018-01-04 10:39:45.572</td>\n",
       "      <td>37.777346</td>\n",
       "      <td>-122.391869</td>\n",
       "      <td>0.106252</td>\n",
       "      <td>1</td>\n",
       "      <td>0.0</td>\n",
       "      <td>14.673537</td>\n",
       "      <td>7.842</td>\n",
       "    </tr>\n",
       "    <tr>\n",
       "      <th>17</th>\n",
       "      <td>17</td>\n",
       "      <td>2018-01-04 10:39:45.823</td>\n",
       "      <td>38.114367</td>\n",
       "      <td>-122.208804</td>\n",
       "      <td>0.000764</td>\n",
       "      <td>1</td>\n",
       "      <td>1.0</td>\n",
       "      <td>29.098402</td>\n",
       "      <td>8.093</td>\n",
       "    </tr>\n",
       "    <tr>\n",
       "      <th>18</th>\n",
       "      <td>18</td>\n",
       "      <td>2018-01-04 10:39:46.151</td>\n",
       "      <td>37.785615</td>\n",
       "      <td>-122.411665</td>\n",
       "      <td>0.067367</td>\n",
       "      <td>1</td>\n",
       "      <td>0.0</td>\n",
       "      <td>15.644475</td>\n",
       "      <td>8.421</td>\n",
       "    </tr>\n",
       "    <tr>\n",
       "      <th>19</th>\n",
       "      <td>19</td>\n",
       "      <td>2018-01-04 10:39:46.158</td>\n",
       "      <td>37.787272</td>\n",
       "      <td>-122.417013</td>\n",
       "      <td>0.066122</td>\n",
       "      <td>0</td>\n",
       "      <td>0.0</td>\n",
       "      <td>15.968517</td>\n",
       "      <td>8.428</td>\n",
       "    </tr>\n",
       "    <tr>\n",
       "      <th>20</th>\n",
       "      <td>20</td>\n",
       "      <td>2018-01-04 10:39:46.280</td>\n",
       "      <td>37.788964</td>\n",
       "      <td>-122.432659</td>\n",
       "      <td>0.073105</td>\n",
       "      <td>1</td>\n",
       "      <td>0.0</td>\n",
       "      <td>17.114639</td>\n",
       "      <td>8.550</td>\n",
       "    </tr>\n",
       "    <tr>\n",
       "      <th>21</th>\n",
       "      <td>21</td>\n",
       "      <td>2018-01-04 10:39:46.368</td>\n",
       "      <td>37.782893</td>\n",
       "      <td>-122.453831</td>\n",
       "      <td>0.137625</td>\n",
       "      <td>1</td>\n",
       "      <td>0.0</td>\n",
       "      <td>19.089359</td>\n",
       "      <td>8.638</td>\n",
       "    </tr>\n",
       "    <tr>\n",
       "      <th>22</th>\n",
       "      <td>22</td>\n",
       "      <td>2018-01-04 10:39:46.548</td>\n",
       "      <td>37.737955</td>\n",
       "      <td>-122.164952</td>\n",
       "      <td>0.089165</td>\n",
       "      <td>0</td>\n",
       "      <td>0.0</td>\n",
       "      <td>15.313230</td>\n",
       "      <td>8.818</td>\n",
       "    </tr>\n",
       "    <tr>\n",
       "      <th>23</th>\n",
       "      <td>23</td>\n",
       "      <td>2018-01-04 10:39:47.676</td>\n",
       "      <td>37.690596</td>\n",
       "      <td>-122.120679</td>\n",
       "      <td>0.076440</td>\n",
       "      <td>0</td>\n",
       "      <td>0.0</td>\n",
       "      <td>21.845388</td>\n",
       "      <td>9.946</td>\n",
       "    </tr>\n",
       "    <tr>\n",
       "      <th>24</th>\n",
       "      <td>24</td>\n",
       "      <td>2018-01-04 10:39:48.143</td>\n",
       "      <td>37.711532</td>\n",
       "      <td>-122.062977</td>\n",
       "      <td>0.084547</td>\n",
       "      <td>1</td>\n",
       "      <td>0.0</td>\n",
       "      <td>23.359998</td>\n",
       "      <td>10.413</td>\n",
       "    </tr>\n",
       "    <tr>\n",
       "      <th>25</th>\n",
       "      <td>25</td>\n",
       "      <td>2018-01-04 10:39:49.116</td>\n",
       "      <td>37.613822</td>\n",
       "      <td>-122.412703</td>\n",
       "      <td>0.159682</td>\n",
       "      <td>1</td>\n",
       "      <td>0.0</td>\n",
       "      <td>30.082112</td>\n",
       "      <td>11.386</td>\n",
       "    </tr>\n",
       "    <tr>\n",
       "      <th>26</th>\n",
       "      <td>26</td>\n",
       "      <td>2018-01-04 10:39:49.471</td>\n",
       "      <td>37.645333</td>\n",
       "      <td>-122.461010</td>\n",
       "      <td>0.079447</td>\n",
       "      <td>1</td>\n",
       "      <td>0.0</td>\n",
       "      <td>29.407562</td>\n",
       "      <td>11.741</td>\n",
       "    </tr>\n",
       "    <tr>\n",
       "      <th>27</th>\n",
       "      <td>27</td>\n",
       "      <td>2018-01-04 10:39:49.889</td>\n",
       "      <td>37.745049</td>\n",
       "      <td>-122.422026</td>\n",
       "      <td>0.045066</td>\n",
       "      <td>1</td>\n",
       "      <td>0.0</td>\n",
       "      <td>18.978070</td>\n",
       "      <td>12.159</td>\n",
       "    </tr>\n",
       "    <tr>\n",
       "      <th>28</th>\n",
       "      <td>28</td>\n",
       "      <td>2018-01-04 10:39:50.636</td>\n",
       "      <td>37.564338</td>\n",
       "      <td>-122.261196</td>\n",
       "      <td>0.058899</td>\n",
       "      <td>0</td>\n",
       "      <td>0.0</td>\n",
       "      <td>32.262973</td>\n",
       "      <td>12.906</td>\n",
       "    </tr>\n",
       "    <tr>\n",
       "      <th>29</th>\n",
       "      <td>29</td>\n",
       "      <td>2018-01-04 10:39:50.995</td>\n",
       "      <td>37.593719</td>\n",
       "      <td>-122.508537</td>\n",
       "      <td>0.007183</td>\n",
       "      <td>1</td>\n",
       "      <td>0.0</td>\n",
       "      <td>36.506809</td>\n",
       "      <td>13.265</td>\n",
       "    </tr>\n",
       "    <tr>\n",
       "      <th>30</th>\n",
       "      <td>30</td>\n",
       "      <td>2018-01-04 10:39:58.311</td>\n",
       "      <td>37.371080</td>\n",
       "      <td>-122.210741</td>\n",
       "      <td>0.083364</td>\n",
       "      <td>1</td>\n",
       "      <td>0.0</td>\n",
       "      <td>53.864886</td>\n",
       "      <td>20.581</td>\n",
       "    </tr>\n",
       "    <tr>\n",
       "      <th>31</th>\n",
       "      <td>31</td>\n",
       "      <td>2018-01-04 10:39:59.847</td>\n",
       "      <td>38.322226</td>\n",
       "      <td>-122.711044</td>\n",
       "      <td>0.017055</td>\n",
       "      <td>1</td>\n",
       "      <td>0.0</td>\n",
       "      <td>65.392143</td>\n",
       "      <td>22.117</td>\n",
       "    </tr>\n",
       "  </tbody>\n",
       "</table>\n",
       "</div>"
      ],
      "text/plain": [
       "    index             triggerTime   latitude   longitude       pga  corrected  \\\n",
       "0       0 2018-01-04 10:39:18.681  38.663052 -120.999146  0.595156          1   \n",
       "1       1 2018-01-04 10:39:41.133  37.899904 -122.304039  0.453306          0   \n",
       "2       2 2018-01-04 10:39:42.080  37.886772 -122.286497  0.008862          1   \n",
       "3       3 2018-01-04 10:39:42.127  37.770128 -122.157297  0.451124          0   \n",
       "4       4 2018-01-04 10:39:42.293  37.840889 -122.249446  0.106888          1   \n",
       "5       5 2018-01-04 10:39:42.499  37.867494 -122.275135  0.082796          1   \n",
       "6       6 2018-01-04 10:39:42.925  37.881328 -122.276141  0.135305          0   \n",
       "7       7 2018-01-04 10:39:43.273  37.879068 -122.290305  0.069141          1   \n",
       "8       8 2018-01-04 10:39:43.353  37.810624 -122.253316  0.113979          1   \n",
       "9       9 2018-01-04 10:39:43.449  37.813644 -122.268960  0.058916          1   \n",
       "10     10 2018-01-04 10:39:43.729  37.846671 -122.252641  0.075517          1   \n",
       "11     11 2018-01-04 10:39:44.162  37.879177 -122.276300  0.098064          1   \n",
       "12     12 2018-01-04 10:39:44.472  37.925388 -122.295607  0.022819          1   \n",
       "13     13 2018-01-04 10:39:44.658  37.880397 -122.259127  0.047950          1   \n",
       "14     14 2018-01-04 10:39:45.306  37.837637 -122.123778  0.055039          1   \n",
       "15     15 2018-01-04 10:39:45.372  38.068488 -122.558662  0.008180          1   \n",
       "16     16 2018-01-04 10:39:45.572  37.777346 -122.391869  0.106252          1   \n",
       "17     17 2018-01-04 10:39:45.823  38.114367 -122.208804  0.000764          1   \n",
       "18     18 2018-01-04 10:39:46.151  37.785615 -122.411665  0.067367          1   \n",
       "19     19 2018-01-04 10:39:46.158  37.787272 -122.417013  0.066122          0   \n",
       "20     20 2018-01-04 10:39:46.280  37.788964 -122.432659  0.073105          1   \n",
       "21     21 2018-01-04 10:39:46.368  37.782893 -122.453831  0.137625          1   \n",
       "22     22 2018-01-04 10:39:46.548  37.737955 -122.164952  0.089165          0   \n",
       "23     23 2018-01-04 10:39:47.676  37.690596 -122.120679  0.076440          0   \n",
       "24     24 2018-01-04 10:39:48.143  37.711532 -122.062977  0.084547          1   \n",
       "25     25 2018-01-04 10:39:49.116  37.613822 -122.412703  0.159682          1   \n",
       "26     26 2018-01-04 10:39:49.471  37.645333 -122.461010  0.079447          1   \n",
       "27     27 2018-01-04 10:39:49.889  37.745049 -122.422026  0.045066          1   \n",
       "28     28 2018-01-04 10:39:50.636  37.564338 -122.261196  0.058899          0   \n",
       "29     29 2018-01-04 10:39:50.995  37.593719 -122.508537  0.007183          1   \n",
       "30     30 2018-01-04 10:39:58.311  37.371080 -122.210741  0.083364          1   \n",
       "31     31 2018-01-04 10:39:59.847  38.322226 -122.711044  0.017055          1   \n",
       "\n",
       "    p_flag  epidistance  time_since_otime  \n",
       "0      1.0   142.001288           -19.049  \n",
       "1      0.0     6.478218             3.403  \n",
       "2      0.0     4.378529             4.350  \n",
       "3      0.0    12.877039             4.397  \n",
       "4      0.0     1.701545             4.563  \n",
       "5      1.0     2.114197             4.769  \n",
       "6      0.0     3.372841             5.195  \n",
       "7      1.0     3.965409             5.543  \n",
       "8      0.0     4.936094             5.623  \n",
       "9      0.0     4.709419             5.719  \n",
       "10     0.0     1.000931             5.999  \n",
       "11     0.0     3.175691             6.432  \n",
       "12     0.0     8.518794             6.742  \n",
       "13     1.0     2.825107             6.928  \n",
       "14     0.0    11.882953             7.576  \n",
       "15     0.0    35.556492             7.642  \n",
       "16     0.0    14.673537             7.842  \n",
       "17     1.0    29.098402             8.093  \n",
       "18     0.0    15.644475             8.421  \n",
       "19     0.0    15.968517             8.428  \n",
       "20     0.0    17.114639             8.550  \n",
       "21     0.0    19.089359             8.638  \n",
       "22     0.0    15.313230             8.818  \n",
       "23     0.0    21.845388             9.946  \n",
       "24     0.0    23.359998            10.413  \n",
       "25     0.0    30.082112            11.386  \n",
       "26     0.0    29.407562            11.741  \n",
       "27     0.0    18.978070            12.159  \n",
       "28     0.0    32.262973            12.906  \n",
       "29     0.0    36.506809            13.265  \n",
       "30     0.0    53.864886            20.581  \n",
       "31     0.0    65.392143            22.117  "
      ]
     },
     "execution_count": 155,
     "metadata": {},
     "output_type": "execute_result"
    }
   ],
   "source": [
    "phone_pga.sort_values(by='time_since_otime')"
   ]
  },
  {
   "cell_type": "code",
   "execution_count": 153,
   "metadata": {},
   "outputs": [],
   "source": [
    "simulated_triggers = pd.read_csv('Trigger_list_Berkeley_test_1.csv')"
   ]
  },
  {
   "cell_type": "code",
   "execution_count": 154,
   "metadata": {},
   "outputs": [
    {
     "data": {
      "image/png": "[encoded data removed]",
      "text/plain": [
       "<Figure size 1080x576 with 2 Axes>"
      ]
     },
     "metadata": {},
     "output_type": "display_data"
    }
   ],
   "source": [
    "fig = plt.figure(figsize=(15,8))\n",
    "ax1 = fig.add_subplot(121)\n",
    "ax2 = fig.add_subplot(122)\n",
    "\n",
    "phone_pga.plot(kind='scatter',x='epidistance',y='time_since_otime',ax=ax1,s=50,c='k')\n",
    "ax1.plot((d0,d1),(pt0,pt1),'r--',label='P arrival')\n",
    "ax1.plot((d0,d1),(st0,st1),'g--',label='S arrival')\n",
    "ax1.legend(loc='best')\n",
    "\n",
    "ax1.set_xlabel('Distance from epicenter (km)')\n",
    "ax1.set_ylabel('Time (s)')\n",
    "ax1.set_xlim([0,75])\n",
    "ax1.set_ylim([0,40])\n",
    "ax1.set_title('Real triggers')\n",
    "\n",
    "simulated_triggers.plot(kind='scatter',x='dist',y='delta_t',ax=ax2,s=50,c='k')\n",
    "ax2.plot((d0,d1),(pt0,pt1),'r--',label='P arrival')\n",
    "ax2.plot((d0,d1),(st0,st1),'g--',label='S arrival')\n",
    "ax2.set_xlabel('Distance from epicenter (km)')\n",
    "ax2.set_ylabel('Time (s)')\n",
    "ax2.set_xlim([0,75])\n",
    "ax2.set_ylim([0,40])\n",
    "ax2.set_title('Simulated triggers')\n",
    "\n",
    "plt.tight_layout()\n",
    "plt.savefig('Real_vs_simulated_triggers_berkeley.pdf',dpi=200)"
   ]
  },
  {
   "cell_type": "code",
   "execution_count": null,
   "metadata": {},
   "outputs": [],
   "source": []
  },
  {
   "cell_type": "code",
   "execution_count": null,
   "metadata": {},
   "outputs": [],
   "source": []
  },
  {
   "cell_type": "code",
   "execution_count": 81,
   "metadata": {},
   "outputs": [
    {
     "data": {
      "image/png": "[encoded data removed]",
      "text/plain": [
       "<Figure size 720x504 with 1 Axes>"
      ]
     },
     "metadata": {},
     "output_type": "display_data"
    }
   ],
   "source": [
    "fig = plt.figure(figsize=(10,7))\n",
    "plt.plot(corrected_phones['epidistance'],corrected_phones['pga'],'go',markersize=5,label='PGA corrected')\n",
    "plt.plot(uncorrected_phones['epidistance'],uncorrected_phones['pga'],'ro',markersize=5,label='PGA not corrected')\n",
    "plt.xlabel('Distance from epicenter')\n",
    "plt.ylabel('PGA value')\n",
    "plt.legend(loc='best')\n",
    "plt.savefig(\"Berkeley_triggers_PGA.png\",dpi=150)"
   ]
  },
  {
   "cell_type": "code",
   "execution_count": 82,
   "metadata": {},
   "outputs": [
    {
     "name": "stderr",
     "output_type": "stream",
     "text": [
      "/home/rmartinshort/anaconda2/envs/python3/lib/python3.6/site-packages/matplotlib/axes/_axes.py:6448: UserWarning: The 'normed' kwarg is deprecated, and has been replaced by the 'density' kwarg.\n",
      "  warnings.warn(\"The 'normed' kwarg is deprecated, and has been \"\n"
     ]
    },
    {
     "data": {
      "image/png": "[encoded data removed]",
      "text/plain": [
       "<Figure size 432x288 with 1 Axes>"
      ]
     },
     "metadata": {},
     "output_type": "display_data"
    }
   ],
   "source": [
    "sns.distplot(phone_pga['pga'],kde=False,bins=20)\n",
    "plt.grid()\n",
    "plt.xlabel('PGA value')\n",
    "plt.ylabel('Number of observations')\n",
    "plt.title('Total number of observations: %i' %len(phone_pga))\n",
    "plt.axvline(0.1,color='r')\n",
    "plt.savefig(\"Berkeley_triggers_dist.png\",dpi=150)"
   ]
  },
  {
   "cell_type": "markdown",
   "metadata": {},
   "source": [
    "### Extract from the waveforms"
   ]
  },
  {
   "cell_type": "code",
   "execution_count": 54,
   "metadata": {},
   "outputs": [],
   "source": [
    "waveforms = \"/home/rmartinshort/Documents/Berkeley/MyShake_simulations/rms_version/clustering_compare/MyShake_simulation/data/Good_earthquakes/20180104T000000_20180105T000000/2km_SE_of_Berkeley,_CA_M4.38/data\""
   ]
  },
  {
   "cell_type": "code",
   "execution_count": 55,
   "metadata": {},
   "outputs": [],
   "source": [
    "all_waveforms = list(sorted(glob.glob(waveforms+'/*.pkl')))\n",
    "filter_hp = filter_rt.filter_rt()"
   ]
  },
  {
   "cell_type": "code",
   "execution_count": 58,
   "metadata": {},
   "outputs": [
    {
     "name": "stdout",
     "output_type": "stream",
     "text": [
      "Could not extract pga\n"
     ]
    }
   ],
   "source": [
    "pga_vals = []\n",
    "\n",
    "for waveform in all_waveforms:\n",
    "    \n",
    "    data = pickle.load(open(waveform,'rb'), encoding='latin1')\n",
    "    tt = data['triggerTimer']\n",
    "    ts = data['data']['ts']\n",
    "    x = data['data']['x']\n",
    "    y = data['data']['y']\n",
    "    z = data['data']['z']\n",
    "    dt = np.diff(ts/1000.)\n",
    "    x1, y1, z1 = filter_hp.apply_filter(x,y,z,dt)\n",
    "    ix = (ts >=(tt - 100)) & (ts<= tt+100) #not clear about what interval to use here\n",
    "    try:\n",
    "        pga = np.max([np.abs(x1[ix]), np.abs(y1[ix]), np.abs(z1[ix])])\n",
    "        pga_vals.append(pga)\n",
    "    except:\n",
    "        print(\"Could not extract pga\")\n",
    "        pga_vals.append(np.nan)"
   ]
  },
  {
   "cell_type": "code",
   "execution_count": 83,
   "metadata": {},
   "outputs": [
    {
     "data": {
      "image/png": "[encoded data removed]",
      "text/plain": [
       "<Figure size 432x288 with 1 Axes>"
      ]
     },
     "metadata": {},
     "output_type": "display_data"
    }
   ],
   "source": [
    "pga_vals = np.array(pga_vals)\n",
    "plt.hist(pga_vals[~np.isnan(pga_vals)],bins=30)\n",
    "plt.xlabel('PGA value from waveform')\n",
    "plt.ylabel('Number of observations')\n",
    "plt.savefig(\"Berkeley_from_phone_dist.png\",dpi=150)"
   ]
  },
  {
   "cell_type": "code",
   "execution_count": null,
   "metadata": {},
   "outputs": [],
   "source": []
  }
 ],
 "metadata": {
  "kernelspec": {
   "display_name": "Python 3",
   "language": "python",
   "name": "python3"
  },
  "language_info": {
   "codemirror_mode": {
    "name": "ipython",
    "version": 3
   },
   "file_extension": ".py",
   "mimetype": "text/x-python",
   "name": "python",
   "nbconvert_exporter": "python",
   "pygments_lexer": "ipython3",
   "version": "3.6.7"
  }
 },
 "nbformat": 4,
 "nbformat_minor": 2
}
